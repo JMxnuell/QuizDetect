{
 "cells": [
  {
   "cell_type": "code",
   "execution_count": null,
   "id": "56b1dc16",
   "metadata": {
    "pycharm": {
     "is_executing": true,
     "name": "#%%\n"
    }
   },
   "outputs": [],
   "source": [
    "import pandas as pd\n",
    "import numpy as np\n",
    "from sklearn.feature_extraction.text import TfidfVectorizer\n",
    "import string\n",
    "from sklearn.linear_model import LogisticRegression\n",
    "from sklearn.feature_selection import SelectFromModel\n",
    "from sklearn.metrics import classification_report\n",
    "from sklearn.svm import LinearSVC\n",
    "import matplotlib.pyplot as plt\n",
    "from sklearn.neighbors import KNeighborsClassifier\n",
    "from sklearn.svm import SVC\n",
    "from sklearn.tree import DecisionTreeClassifier\n",
    "from sklearn.naive_bayes import MultinomialNB, GaussianNB\n",
    "from sklearn.utils import shuffle\n",
    "from sklearn.preprocessing import StandardScaler\n"
   ]
  },
  {
   "cell_type": "code",
   "execution_count": null,
   "id": "8f0b4169",
   "metadata": {
    "pycharm": {
     "name": "#%%\n"
    }
   },
   "outputs": [],
   "source": [
    "df = pd.read_csv(\"dataset_2.csv\")"
   ]
  },
  {
   "cell_type": "code",
   "execution_count": null,
   "id": "e65b93bd",
   "metadata": {
    "pycharm": {
     "name": "#%%\n"
    }
   },
   "outputs": [],
   "source": [
    "df[\"Toxic/Not Toxic\"][df[\"Toxic/Not Toxic\"] == \"Toxic\"] = 1\n",
    "df[\"Toxic/Not Toxic\"][df[\"Toxic/Not Toxic\"] == \"Not Toxic\"] = 0\n",
    "texto = df[\"Message Text\"]\n",
    "label = df[\"Toxic/Not Toxic\"]\n",
    "dict = {\"Texto\":texto, \"Label\":label}\n",
    "df_clean = pd.DataFrame(dict)"
   ]
  },
  {
   "cell_type": "code",
   "execution_count": null,
   "id": "8ae6c7d5",
   "metadata": {
    "pycharm": {
     "name": "#%%\n"
    }
   },
   "outputs": [],
   "source": [
    "df_clean = df_clean.dropna()\n",
    "df_clean = shuffle(df_clean)"
   ]
  },
  {
   "cell_type": "code",
   "execution_count": null,
   "id": "1e9850a4",
   "metadata": {
    "pycharm": {
     "name": "#%%\n"
    }
   },
   "outputs": [],
   "source": [
    "stopwords = nltk.corpus.stopwords.words(\"spanish\")\n",
    "stemmer = PorterStemmer()"
   ]
  },
  {
   "cell_type": "code",
   "execution_count": null,
   "id": "5e1c0853",
   "metadata": {
    "pycharm": {
     "name": "#%%\n"
    }
   },
   "outputs": [],
   "source": [
    "def tokenize(frase):\n",
    "    tokens = nltk.word_tokenize(frase)\n",
    "    tokens_cleaned = [token.lower() for token in tokens if token.isalpha()]\n",
    "    tokens_stemm = [stemmer.stem(t) for t in tokens_cleaned]\n",
    "    return tokens_stemm"
   ]
  },
  {
   "cell_type": "code",
   "execution_count": null,
   "id": "84e8dda1",
   "metadata": {
    "pycharm": {
     "name": "#%%\n"
    }
   },
   "outputs": [],
   "source": [
    "vectorizer = TfidfVectorizer(\n",
    "    tokenizer=tokenize,\n",
    "    ngram_range=(1,3),\n",
    "    stop_words=stopwords,\n",
    "    )"
   ]
  },
  {
   "cell_type": "code",
   "execution_count": null,
   "id": "28572646",
   "metadata": {
    "pycharm": {
     "name": "#%%\n"
    }
   },
   "outputs": [],
   "source": [
    "tfidf = vectorizer.fit_transform(df_clean[\"Texto\"]).toarray()\n"
   ]
  },
  {
   "cell_type": "code",
   "execution_count": null,
   "id": "4136dae9",
   "metadata": {
    "pycharm": {
     "name": "#%%\n"
    }
   },
   "outputs": [],
   "source": [
    "X = pd.DataFrame(tfidf)\n",
    "y = df_clean['Label'].astype(int)"
   ]
  },
  {
   "cell_type": "code",
   "execution_count": null,
   "id": "a7448eed",
   "metadata": {
    "pycharm": {
     "name": "#%%\n"
    }
   },
   "outputs": [],
   "source": [
    "from sklearn.model_selection import KFold, GridSearchCV, train_test_split\n",
    "from sklearn.pipeline import Pipeline"
   ]
  },
  {
   "cell_type": "code",
   "execution_count": null,
   "id": "2495c044",
   "metadata": {
    "pycharm": {
     "name": "#%%\n"
    }
   },
   "outputs": [],
   "source": [
    "param_grid = {'C': np.arange(0.1, 60, 50),\n",
    "              'penalty': ['l2'] }\n",
    "X_train, X_test, y_train, y_test = train_test_split(X, y, random_state=42, test_size=0.2)\n",
    "kf = KFold(n_splits=6,shuffle = True, random_state=42)\n",
    "lr = LogisticRegression()\n",
    "\n",
    "scaler = StandardScaler()\n",
    "steps = [('scaler', StandardScaler()), \n",
    "         ('Logistic Regression', LogisticRegression())]\n",
    "\n",
    "pipeline = Pipeline(steps)\n",
    "\n",
    "grid_search = GridSearchCV(lr, param_grid, cv=kf)\n",
    "model = grid_search.fit(X_train, y_train)"
   ]
  },
  {
   "cell_type": "code",
   "execution_count": null,
   "id": "d09f9f8b",
   "metadata": {
    "pycharm": {
     "name": "#%%\n"
    }
   },
   "outputs": [],
   "source": [
    "import joblib\n",
    "joblib.dump(model, \"model.pkl\")"
   ]
  },
  {
   "cell_type": "code",
   "execution_count": null,
   "id": "e897de7d",
   "metadata": {
    "pycharm": {
     "name": "#%%\n"
    }
   },
   "outputs": [],
   "source": [
    "joblib.dump(vectorizer, 'tfidf.pkl')"
   ]
  }
 ],
 "metadata": {
  "kernelspec": {
   "display_name": "Python 3 (ipykernel)",
   "language": "python",
   "name": "python3"
  },
  "language_info": {
   "codemirror_mode": {
    "name": "ipython",
    "version": 3
   },
   "file_extension": ".py",
   "mimetype": "text/x-python",
   "name": "python",
   "nbconvert_exporter": "python",
   "pygments_lexer": "ipython3",
   "version": "3.9.13 (tags/v3.9.13:6de2ca5, May 17 2022, 16:36:42) [MSC v.1929 64 bit (AMD64)]"
  },
  "vscode": {
   "interpreter": {
    "hash": "5a06f63a5309397522ed6077b792f4c056d097d243bfb3fb9961296f0a150f11"
   }
  }
 },
 "nbformat": 4,
 "nbformat_minor": 5
}
